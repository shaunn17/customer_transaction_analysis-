# EDA.ipynb
import pandas as pd
import seaborn as sns
import matplotlib.pyplot as plt

# Load the dataset
df = pd.read_csv('../data/creditcard.csv')

# Basic info and summary statistics
print(df.info())
print(df.describe())

# Check class distribution
sns.countplot(x='Class', data=df)
plt.title('Transaction Class Distribution')
plt.show()

# Plot correlations
corr = df.corr()
plt.figure(figsize=(12, 10))
sns.heatmap(corr, cmap='coolwarm', annot=False)
plt.title('Correlation Heatmap')
plt.show()

# Additional analysis can be added as needed
